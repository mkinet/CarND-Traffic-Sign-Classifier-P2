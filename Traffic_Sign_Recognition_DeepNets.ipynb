{
 "cells": [
  {
   "cell_type": "markdown",
   "metadata": {},
   "source": [
    "# Traffic Sign Recognition using convolutional network\n",
    "\n",
    "This notebook implements a traffic sign recognition system using convolutional Network. It is based on a project realized during the first term of the Self-Driving Car Nanodegree of udacity."
   ]
  },
  {
   "cell_type": "markdown",
   "metadata": {},
   "source": [
    "---\n",
    "## Loading The Data\n",
    "\n",
    "The data use for this project are based on the [German traffic sign dataset](http://benchmark.ini.rub.de/?section=gtsrb&subsection=dataset). The data has already been processed and stored into three pickle files, one for training, one for validation and one for testing."
   ]
  },
  {
   "cell_type": "code",
   "execution_count": 1,
   "metadata": {
    "collapsed": true
   },
   "outputs": [],
   "source": [
    "import numpy as np\n",
    "import pandas as pd\n",
    "import pickle\n",
    "from scipy.misc import imread, imresize\n",
    "import matplotlib.image as mpimg\n",
    "import matplotlib.pyplot as plt\n",
    "import seaborn as sns\n",
    "\n",
    "import tensorflow as tf\n",
    "from tensorflow.contrib.layers import flatten\n",
    "from sklearn.utils import shuffle\n",
    "import cv2\n",
    "\n",
    "# Visualizations will be shown in the notebook.\n",
    "%matplotlib inline\n",
    "import matplotlib as mpl\n",
    "\n",
    "mpl.rcParams['figure.figsize'] = (6,6)"
   ]
  },
  {
   "cell_type": "code",
   "execution_count": 2,
   "metadata": {
    "collapsed": true
   },
   "outputs": [],
   "source": [
    "# Load pickled data\n",
    "training_file = './data/train.p'\n",
    "validation_file = './data/valid.p'\n",
    "testing_file = './data/test.p'\n",
    "\n",
    "with open(training_file, mode='rb') as f:\n",
    "    train = pickle.load(f)\n",
    "with open(validation_file, mode='rb') as f:\n",
    "    valid = pickle.load(f)\n",
    "with open(testing_file, mode='rb') as f:\n",
    "    test = pickle.load(f)\n",
    "    \n",
    "X_train, y_train = train['features'], train['labels']\n",
    "X_valid, y_valid = valid['features'], valid['labels']\n",
    "X_test, y_test = test['features'], test['labels']"
   ]
  },
  {
   "cell_type": "markdown",
   "metadata": {},
   "source": [
    "---\n",
    "\n",
    "## Dataset Summary & Exploration\n",
    "\n",
    "The pickled data is a dictionary with 4 key/value pairs:\n",
    "\n",
    "- `'features'` is a 4D array containing raw pixel data of the traffic sign images, (num examples, width, height, channels).\n",
    "- `'labels'` is a 1D array containing the label/class id of the traffic sign. The file `signnames.csv` contains id -> name mappings for each id.\n",
    "- `'sizes'` is a list containing tuples, (width, height) representing the original width and height the image.\n",
    "- `'coords'` is a list containing tuples, (x1, y1, x2, y2) representing coordinates of a bounding box around the sign in the image. **THESE COORDINATES ASSUME THE ORIGINAL IMAGE. THE PICKLED DATA CONTAINS RESIZED VERSIONS (32 by 32) OF THESE IMAGES**\n",
    "\n",
    "Let us firstcount how many data we havein each dataset."
   ]
  },
  {
   "cell_type": "code",
   "execution_count": 3,
   "metadata": {},
   "outputs": [
    {
     "name": "stdout",
     "output_type": "stream",
     "text": [
      "Number of training examples = 34799\n",
      "Number of validation examples = 4410\n",
      "Number of testing examples = 12630\n",
      "Image data shape = 32x32x3\n",
      "Number of classes = 43\n"
     ]
    }
   ],
   "source": [
    "# Number of training examples\n",
    "n_train = X_train.shape[0]\n",
    "\n",
    "# Number of validation examples\n",
    "n_validation = X_valid.shape[0]\n",
    "\n",
    "# Number of testing examples.\n",
    "n_test = X_test.shape[0]\n",
    "\n",
    "# What's the shape of an traffic sign image?\n",
    "image_shape = str(X_train.shape[1])+'x'+str(X_train.shape[2])+'x'+str(X_train.shape[3])\n",
    "\n",
    "# How many unique classes/labels there are in the dataset.\n",
    "n_classes = len(np.unique(y_train))\n",
    "\n",
    "print(\"Number of training examples =\", n_train)\n",
    "print(\"Number of validation examples =\", n_validation)\n",
    "print(\"Number of testing examples =\", n_test)\n",
    "print(\"Image data shape =\", image_shape)\n",
    "print(\"Number of classes =\", n_classes)"
   ]
  },
  {
   "cell_type": "markdown",
   "metadata": {
    "collapsed": true
   },
   "source": [
    "Next, we will count how many example of each class there is in each dataset (training, validation and test). This is done using pandas value_counts methods, and creating a table from it. "
   ]
  },
  {
   "cell_type": "code",
   "execution_count": 4,
   "metadata": {},
   "outputs": [
    {
     "data": {
      "text/html": [
       "<div>\n",
       "<style>\n",
       "    .dataframe thead tr:only-child th {\n",
       "        text-align: right;\n",
       "    }\n",
       "\n",
       "    .dataframe thead th {\n",
       "        text-align: left;\n",
       "    }\n",
       "\n",
       "    .dataframe tbody tr th {\n",
       "        vertical-align: top;\n",
       "    }\n",
       "</style>\n",
       "<table border=\"1\" class=\"dataframe\">\n",
       "  <thead>\n",
       "    <tr style=\"text-align: right;\">\n",
       "      <th></th>\n",
       "      <th>train</th>\n",
       "      <th>valid</th>\n",
       "      <th>test</th>\n",
       "    </tr>\n",
       "    <tr>\n",
       "      <th>SignName</th>\n",
       "      <th></th>\n",
       "      <th></th>\n",
       "      <th></th>\n",
       "    </tr>\n",
       "  </thead>\n",
       "  <tbody>\n",
       "    <tr>\n",
       "      <th>Speed limit (20km/h)</th>\n",
       "      <td>180</td>\n",
       "      <td>30</td>\n",
       "      <td>60</td>\n",
       "    </tr>\n",
       "    <tr>\n",
       "      <th>Speed limit (30km/h)</th>\n",
       "      <td>1980</td>\n",
       "      <td>240</td>\n",
       "      <td>720</td>\n",
       "    </tr>\n",
       "    <tr>\n",
       "      <th>Speed limit (50km/h)</th>\n",
       "      <td>2010</td>\n",
       "      <td>240</td>\n",
       "      <td>750</td>\n",
       "    </tr>\n",
       "    <tr>\n",
       "      <th>Speed limit (60km/h)</th>\n",
       "      <td>1260</td>\n",
       "      <td>150</td>\n",
       "      <td>450</td>\n",
       "    </tr>\n",
       "    <tr>\n",
       "      <th>Speed limit (70km/h)</th>\n",
       "      <td>1770</td>\n",
       "      <td>210</td>\n",
       "      <td>660</td>\n",
       "    </tr>\n",
       "    <tr>\n",
       "      <th>Speed limit (80km/h)</th>\n",
       "      <td>1650</td>\n",
       "      <td>210</td>\n",
       "      <td>630</td>\n",
       "    </tr>\n",
       "    <tr>\n",
       "      <th>End of speed limit (80km/h)</th>\n",
       "      <td>360</td>\n",
       "      <td>60</td>\n",
       "      <td>150</td>\n",
       "    </tr>\n",
       "    <tr>\n",
       "      <th>Speed limit (100km/h)</th>\n",
       "      <td>1290</td>\n",
       "      <td>150</td>\n",
       "      <td>450</td>\n",
       "    </tr>\n",
       "    <tr>\n",
       "      <th>Speed limit (120km/h)</th>\n",
       "      <td>1260</td>\n",
       "      <td>150</td>\n",
       "      <td>450</td>\n",
       "    </tr>\n",
       "    <tr>\n",
       "      <th>No passing</th>\n",
       "      <td>1320</td>\n",
       "      <td>150</td>\n",
       "      <td>480</td>\n",
       "    </tr>\n",
       "    <tr>\n",
       "      <th>No passing for vehicles over 3.5 metric tons</th>\n",
       "      <td>1800</td>\n",
       "      <td>210</td>\n",
       "      <td>660</td>\n",
       "    </tr>\n",
       "    <tr>\n",
       "      <th>Right-of-way at the next intersection</th>\n",
       "      <td>1170</td>\n",
       "      <td>150</td>\n",
       "      <td>420</td>\n",
       "    </tr>\n",
       "    <tr>\n",
       "      <th>Priority road</th>\n",
       "      <td>1890</td>\n",
       "      <td>210</td>\n",
       "      <td>690</td>\n",
       "    </tr>\n",
       "    <tr>\n",
       "      <th>Yield</th>\n",
       "      <td>1920</td>\n",
       "      <td>240</td>\n",
       "      <td>720</td>\n",
       "    </tr>\n",
       "    <tr>\n",
       "      <th>Stop</th>\n",
       "      <td>690</td>\n",
       "      <td>90</td>\n",
       "      <td>270</td>\n",
       "    </tr>\n",
       "    <tr>\n",
       "      <th>No vehicles</th>\n",
       "      <td>540</td>\n",
       "      <td>90</td>\n",
       "      <td>210</td>\n",
       "    </tr>\n",
       "    <tr>\n",
       "      <th>Vehicles over 3.5 metric tons prohibited</th>\n",
       "      <td>360</td>\n",
       "      <td>60</td>\n",
       "      <td>150</td>\n",
       "    </tr>\n",
       "    <tr>\n",
       "      <th>No entry</th>\n",
       "      <td>990</td>\n",
       "      <td>120</td>\n",
       "      <td>360</td>\n",
       "    </tr>\n",
       "    <tr>\n",
       "      <th>General caution</th>\n",
       "      <td>1080</td>\n",
       "      <td>120</td>\n",
       "      <td>390</td>\n",
       "    </tr>\n",
       "    <tr>\n",
       "      <th>Dangerous curve to the left</th>\n",
       "      <td>180</td>\n",
       "      <td>30</td>\n",
       "      <td>60</td>\n",
       "    </tr>\n",
       "    <tr>\n",
       "      <th>Dangerous curve to the right</th>\n",
       "      <td>300</td>\n",
       "      <td>60</td>\n",
       "      <td>90</td>\n",
       "    </tr>\n",
       "    <tr>\n",
       "      <th>Double curve</th>\n",
       "      <td>270</td>\n",
       "      <td>60</td>\n",
       "      <td>90</td>\n",
       "    </tr>\n",
       "    <tr>\n",
       "      <th>Bumpy road</th>\n",
       "      <td>330</td>\n",
       "      <td>60</td>\n",
       "      <td>120</td>\n",
       "    </tr>\n",
       "    <tr>\n",
       "      <th>Slippery road</th>\n",
       "      <td>450</td>\n",
       "      <td>60</td>\n",
       "      <td>150</td>\n",
       "    </tr>\n",
       "    <tr>\n",
       "      <th>Road narrows on the right</th>\n",
       "      <td>240</td>\n",
       "      <td>30</td>\n",
       "      <td>90</td>\n",
       "    </tr>\n",
       "    <tr>\n",
       "      <th>Road work</th>\n",
       "      <td>1350</td>\n",
       "      <td>150</td>\n",
       "      <td>480</td>\n",
       "    </tr>\n",
       "    <tr>\n",
       "      <th>Traffic signals</th>\n",
       "      <td>540</td>\n",
       "      <td>60</td>\n",
       "      <td>180</td>\n",
       "    </tr>\n",
       "    <tr>\n",
       "      <th>Pedestrians</th>\n",
       "      <td>210</td>\n",
       "      <td>30</td>\n",
       "      <td>60</td>\n",
       "    </tr>\n",
       "    <tr>\n",
       "      <th>Children crossing</th>\n",
       "      <td>480</td>\n",
       "      <td>60</td>\n",
       "      <td>150</td>\n",
       "    </tr>\n",
       "    <tr>\n",
       "      <th>Bicycles crossing</th>\n",
       "      <td>240</td>\n",
       "      <td>30</td>\n",
       "      <td>90</td>\n",
       "    </tr>\n",
       "    <tr>\n",
       "      <th>Beware of ice/snow</th>\n",
       "      <td>390</td>\n",
       "      <td>60</td>\n",
       "      <td>150</td>\n",
       "    </tr>\n",
       "    <tr>\n",
       "      <th>Wild animals crossing</th>\n",
       "      <td>690</td>\n",
       "      <td>90</td>\n",
       "      <td>270</td>\n",
       "    </tr>\n",
       "    <tr>\n",
       "      <th>End of all speed and passing limits</th>\n",
       "      <td>210</td>\n",
       "      <td>30</td>\n",
       "      <td>60</td>\n",
       "    </tr>\n",
       "    <tr>\n",
       "      <th>Turn right ahead</th>\n",
       "      <td>599</td>\n",
       "      <td>90</td>\n",
       "      <td>210</td>\n",
       "    </tr>\n",
       "    <tr>\n",
       "      <th>Turn left ahead</th>\n",
       "      <td>360</td>\n",
       "      <td>60</td>\n",
       "      <td>120</td>\n",
       "    </tr>\n",
       "    <tr>\n",
       "      <th>Ahead only</th>\n",
       "      <td>1080</td>\n",
       "      <td>120</td>\n",
       "      <td>390</td>\n",
       "    </tr>\n",
       "    <tr>\n",
       "      <th>Go straight or right</th>\n",
       "      <td>330</td>\n",
       "      <td>60</td>\n",
       "      <td>120</td>\n",
       "    </tr>\n",
       "    <tr>\n",
       "      <th>Go straight or left</th>\n",
       "      <td>180</td>\n",
       "      <td>30</td>\n",
       "      <td>60</td>\n",
       "    </tr>\n",
       "    <tr>\n",
       "      <th>Keep right</th>\n",
       "      <td>1860</td>\n",
       "      <td>210</td>\n",
       "      <td>690</td>\n",
       "    </tr>\n",
       "    <tr>\n",
       "      <th>Keep left</th>\n",
       "      <td>270</td>\n",
       "      <td>30</td>\n",
       "      <td>90</td>\n",
       "    </tr>\n",
       "    <tr>\n",
       "      <th>Roundabout mandatory</th>\n",
       "      <td>300</td>\n",
       "      <td>60</td>\n",
       "      <td>90</td>\n",
       "    </tr>\n",
       "    <tr>\n",
       "      <th>End of no passing</th>\n",
       "      <td>210</td>\n",
       "      <td>30</td>\n",
       "      <td>60</td>\n",
       "    </tr>\n",
       "    <tr>\n",
       "      <th>End of no passing by vehicles over 3.5 metric tons</th>\n",
       "      <td>210</td>\n",
       "      <td>30</td>\n",
       "      <td>90</td>\n",
       "    </tr>\n",
       "    <tr>\n",
       "      <th>Total</th>\n",
       "      <td>34799</td>\n",
       "      <td>12630</td>\n",
       "      <td>4410</td>\n",
       "    </tr>\n",
       "  </tbody>\n",
       "</table>\n",
       "</div>"
      ],
      "text/plain": [
       "                                                    train  valid  test\n",
       "SignName                                                              \n",
       "Speed limit (20km/h)                                  180     30    60\n",
       "Speed limit (30km/h)                                 1980    240   720\n",
       "Speed limit (50km/h)                                 2010    240   750\n",
       "Speed limit (60km/h)                                 1260    150   450\n",
       "Speed limit (70km/h)                                 1770    210   660\n",
       "Speed limit (80km/h)                                 1650    210   630\n",
       "End of speed limit (80km/h)                           360     60   150\n",
       "Speed limit (100km/h)                                1290    150   450\n",
       "Speed limit (120km/h)                                1260    150   450\n",
       "No passing                                           1320    150   480\n",
       "No passing for vehicles over 3.5 metric tons         1800    210   660\n",
       "Right-of-way at the next intersection                1170    150   420\n",
       "Priority road                                        1890    210   690\n",
       "Yield                                                1920    240   720\n",
       "Stop                                                  690     90   270\n",
       "No vehicles                                           540     90   210\n",
       "Vehicles over 3.5 metric tons prohibited              360     60   150\n",
       "No entry                                              990    120   360\n",
       "General caution                                      1080    120   390\n",
       "Dangerous curve to the left                           180     30    60\n",
       "Dangerous curve to the right                          300     60    90\n",
       "Double curve                                          270     60    90\n",
       "Bumpy road                                            330     60   120\n",
       "Slippery road                                         450     60   150\n",
       "Road narrows on the right                             240     30    90\n",
       "Road work                                            1350    150   480\n",
       "Traffic signals                                       540     60   180\n",
       "Pedestrians                                           210     30    60\n",
       "Children crossing                                     480     60   150\n",
       "Bicycles crossing                                     240     30    90\n",
       "Beware of ice/snow                                    390     60   150\n",
       "Wild animals crossing                                 690     90   270\n",
       "End of all speed and passing limits                   210     30    60\n",
       "Turn right ahead                                      599     90   210\n",
       "Turn left ahead                                       360     60   120\n",
       "Ahead only                                           1080    120   390\n",
       "Go straight or right                                  330     60   120\n",
       "Go straight or left                                   180     30    60\n",
       "Keep right                                           1860    210   690\n",
       "Keep left                                             270     30    90\n",
       "Roundabout mandatory                                  300     60    90\n",
       "End of no passing                                     210     30    60\n",
       "End of no passing by vehicles over 3.5 metric tons    210     30    90\n",
       "Total                                               34799  12630  4410"
      ]
     },
     "execution_count": 4,
     "metadata": {},
     "output_type": "execute_result"
    }
   ],
   "source": [
    "count_train = pd.Series(y_train, name='train').value_counts()\n",
    "count_valid = pd.Series(y_valid, name='valid').value_counts()\n",
    "count_test = pd.Series(y_test, name='test').value_counts()\n",
    "counts = pd.concat([count_train,count_valid,count_test],axis=1)\n",
    "names = pd.read_csv('signnames.csv')\n",
    "counts = pd.concat([counts, names['SignName']],axis=1).set_index('SignName')\n",
    "counts.loc['Total']=[np.sum(counts['train']),np.sum(counts['test']),np.sum(counts['valid'])]\n",
    "counts"
   ]
  },
  {
   "cell_type": "markdown",
   "metadata": {},
   "source": [
    "In the training set, the most represented sign has 2010 example, while the least represented has 180 example. There is quite some imbalance between the different classes. Let us check if the distribution of traffic signs is more or less identical in each of the three datasets. To visualize this, we compute the proportion of each sign with respect to the total number of examples in each dataset, and use a barplot to compare them."
   ]
  },
  {
   "cell_type": "code",
   "execution_count": 5,
   "metadata": {},
   "outputs": [
    {
     "data": {
      "image/png": "[encoded data removed]",
      "text/plain": [
       "<matplotlib.figure.Figure at 0x121ea0828>"
      ]
     },
     "metadata": {},
     "output_type": "display_data"
    }
   ],
   "source": [
    "count_train = pd.Series(y_train, name='train').value_counts()/len(y_train)\n",
    "count_valid = pd.Series(y_valid, name='valid').value_counts()/len(y_valid)\n",
    "count_test = pd.Series(y_test, name='test').value_counts()/len(y_test)\n",
    "counts = pd.concat([count_train,count_valid,count_test],axis=1)\n",
    "#counts.reset_index(inplace=True)\n",
    "mpl.rcParams['figure.figsize'] = (12,12)\n",
    "ax=counts.plot(kind='bar',width=1.0)\n",
    "ax.set_xticklabels(names['SignName'])\n",
    "plt.ylabel('Proportion')\n",
    "\n",
    "mpl.rcParams['figure.figsize'] = (6,6)"
   ]
  },
  {
   "cell_type": "markdown",
   "metadata": {},
   "source": [
    "This image confirms what was observed from the table : the classes are relatively imbalanced. We can observe that in general, the training and test sets are more or less identically distributed, but the validation set is slightly different. Imbalance might be a source of problem for training. To improve this, we could augment the dataset to make the distribution more uniform. We will not do this here, but keep in mind that this is an opportunity for improvement.\n",
    "\n",
    "Let us pick some image at random to visualize it prior to any processing."
   ]
  },
  {
   "cell_type": "code",
   "execution_count": 6,
   "metadata": {},
   "outputs": [
    {
     "data": {
      "image/png": "[encoded data removed]",
      "text/plain": [
       "<matplotlib.figure.Figure at 0x13708d3c8>"
      ]
     },
     "metadata": {},
     "output_type": "display_data"
    },
    {
     "data": {
      "image/png": "[encoded data removed]",
      "text/plain": [
       "<matplotlib.figure.Figure at 0x1374cad68>"
      ]
     },
     "metadata": {},
     "output_type": "display_data"
    },
    {
     "data": {
      "image/png": "[encoded data removed]",
      "text/plain": [
       "<matplotlib.figure.Figure at 0x13778d9e8>"
      ]
     },
     "metadata": {},
     "output_type": "display_data"
    },
    {
     "data": {
      "image/png": "[encoded data removed]",
      "text/plain": [
       "<matplotlib.figure.Figure at 0x1377b87b8>"
      ]
     },
     "metadata": {},
     "output_type": "display_data"
    },
    {
     "data": {
      "image/png": "[encoded data removed]",
      "text/plain": [
       "<matplotlib.figure.Figure at 0x137799668>"
      ]
     },
     "metadata": {},
     "output_type": "display_data"
    }
   ],
   "source": [
    "# Randomly visualize an image from the training set\n",
    "# set figure size\n",
    "mpl.rcParams['figure.figsize'] = (5,5)\n",
    "np.random.seed(seed=1234)\n",
    "n_img_to_show = 5\n",
    "for i in np.random.randint(0,len(X_train),n_img_to_show):\n",
    "    plt.figure()\n",
    "    plt.imshow(X_train[i,:,:,:])\n",
    "    plt.title(names.loc[y_train[i],'SignName'])"
   ]
  },
  {
   "cell_type": "code",
   "execution_count": null,
   "metadata": {
    "collapsed": true
   },
   "outputs": [],
   "source": [
    "#np.random.seed(1234)\n",
    "#idx = np.random.randint(0,len(X_train),1)\n",
    "#img = X_train[idx,:,:,:]\n",
    "#clahe = cv2.createCLAHE(clipLimit=2.0, tileGridSize=(8,8))\n",
    "#tmp = clahe.apply(img)\n",
    "#f, (ax1, ax2) = plt.subplots(1, 2)\n",
    "#ax1.imshow(img)\n",
    "#ax2.imshow(tmp)"
   ]
  },
  {
   "cell_type": "markdown",
   "metadata": {},
   "source": [
    "The lighting can be quite different from one image to the next. To make the image similar, we could use [histogram equalization](https://docs.opencv.org/3.1.0/d5/daf/tutorial_py_histogram_equalization.html). This technique makes sure that the intensity of the pixels in each channel of the image spans a maximum range."
   ]
  },
  {
   "cell_type": "markdown",
   "metadata": {},
   "source": [
    "----\n",
    "\n",
    "## Step 2: Design and Test a Model Architecture\n",
    "\n",
    "Design and implement a deep learning model that learns to recognize traffic signs. Train and test your model on the [German Traffic Sign Dataset](http://benchmark.ini.rub.de/?section=gtsrb&subsection=dataset).\n",
    "\n",
    "The LeNet-5 implementation shown in the [classroom](https://classroom.udacity.com/nanodegrees/nd013/parts/fbf77062-5703-404e-b60c-95b78b2f3f9e/modules/6df7ae49-c61c-4bb2-a23e-6527e69209ec/lessons/601ae704-1035-4287-8b11-e2c2716217ad/concepts/d4aca031-508f-4e0b-b493-e7b706120f81) at the end of the CNN lesson is a solid starting point. You'll have to change the number of classes and possibly the preprocessing, but aside from that it's plug and play! \n",
    "\n",
    "With the LeNet-5 solution from the lecture, you should expect a validation set accuracy of about 0.89. To meet specifications, the validation set accuracy will need to be at least 0.93. It is possible to get an even higher accuracy, but 0.93 is the minimum for a successful project submission. \n",
    "\n",
    "There are various aspects to consider when thinking about this problem:\n",
    "\n",
    "- Neural network architecture (is the network over or underfitting?)\n",
    "- Play around preprocessing techniques (normalization, rgb to grayscale, etc)\n",
    "- Number of examples per label (some have more than others).\n",
    "- Generate fake data.\n",
    "\n",
    "Here is an example of a [published baseline model on this problem](http://yann.lecun.com/exdb/publis/pdf/sermanet-ijcnn-11.pdf). It's not required to be familiar with the approach used in the paper but, it's good practice to try to read papers like these."
   ]
  },
  {
   "cell_type": "markdown",
   "metadata": {},
   "source": [
    "### Pre-process the Data Set (normalization, grayscale, etc.)"
   ]
  },
  {
   "cell_type": "markdown",
   "metadata": {},
   "source": [
    "Minimally, the image data should be normalized so that the data has mean zero and equal variance. For image data, `(pixel - 128)/ 128` is a quick way to approximately normalize the data and can be used in this project. \n",
    "\n",
    "Other pre-processing steps are optional. You can try different techniques to see if it improves performance. \n",
    "\n",
    "Use the code cell (or multiple code cells, if necessary) to implement the first step of your project."
   ]
  },
  {
   "cell_type": "code",
   "execution_count": 8,
   "metadata": {
    "collapsed": true
   },
   "outputs": [],
   "source": [
    "# Here I set aside some images to illustrate the difference between original images and processed images.\n",
    "np.random.seed(seed=467)\n",
    "n_img_to_show = 5\n",
    "test_imgs_idx = list(np.random.randint(0,len(X_train),n_img_to_show))\n",
    "test_images_before = X_train[test_imgs_idx,:,:,:]"
   ]
  },
  {
   "cell_type": "code",
   "execution_count": 9,
   "metadata": {
    "collapsed": true
   },
   "outputs": [],
   "source": [
    "# pre-processing pipeline:\n",
    "# 1) switch to grayscale\n",
    "def rgb2gray(rgb):\n",
    "    return np.dot(rgb[...,:3], [0.299, 0.587, 0.114]).reshape((rgb.shape[0],rgb.shape[1],rgb.shape[2],1))\n",
    "# convert to grayscale\n",
    "X_train = rgb2gray(X_train)\n",
    "X_valid = rgb2gray(X_valid)\n",
    "X_test = rgb2gray(X_test) "
   ]
  },
  {
   "cell_type": "code",
   "execution_count": 10,
   "metadata": {
    "collapsed": true
   },
   "outputs": [],
   "source": [
    "# 2) Standardize each figure by substracting its mean and dividing by its output.\n",
    "X_train = (X_train - np.mean(X_train,axis=(1,2),keepdims=True))/np.std(X_train,axis=(1,2),keepdims=1)\n",
    "X_valid = (X_valid - np.mean(X_valid,axis=(1,2),keepdims=True))/np.std(X_valid,axis=(1,2),keepdims=1)\n",
    "X_test = (X_test - np.mean(X_test,axis=(1,2),keepdims=True))/np.std(X_test,axis=(1,2),keepdims=1)"
   ]
  },
  {
   "cell_type": "code",
   "execution_count": 11,
   "metadata": {},
   "outputs": [
    {
     "data": {
      "image/png": "[encoded data removed]",
      "text/plain": [
       "<matplotlib.figure.Figure at 0x152bc84e0>"
      ]
     },
     "metadata": {},
     "output_type": "display_data"
    },
    {
     "data": {
      "image/png": "[encoded data removed]",
      "text/plain": [
       "<matplotlib.figure.Figure at 0x152d7e908>"
      ]
     },
     "metadata": {},
     "output_type": "display_data"
    },
    {
     "data": {
      "image/png": "[encoded data removed]",
      "text/plain": [
       "<matplotlib.figure.Figure at 0x163cc4630>"
      ]
     },
     "metadata": {},
     "output_type": "display_data"
    },
    {
     "data": {
      "image/png": "[encoded data removed]",
      "text/plain": [
       "<matplotlib.figure.Figure at 0x163d07cf8>"
      ]
     },
     "metadata": {},
     "output_type": "display_data"
    },
    {
     "data": {
      "image/png": "[encoded data removed]",
      "text/plain": [
       "<matplotlib.figure.Figure at 0x163d579e8>"
      ]
     },
     "metadata": {},
     "output_type": "display_data"
    }
   ],
   "source": [
    "# Plot side by side the original and transformed images for the images we set aside previously\n",
    "# set figure size\n",
    "mpl.rcParams['figure.figsize'] = (10,5)\n",
    "for i in range(n_img_to_show):\n",
    "    f, (ax1, ax2) = plt.subplots(1, 2)\n",
    "    ax1.imshow(test_images_before[i,:,:,:])\n",
    "    ax2.imshow(X_train[test_imgs_idx[i],:,:,0])"
   ]
  },
  {
   "cell_type": "markdown",
   "metadata": {},
   "source": [
    "### Model Architecture"
   ]
  },
  {
   "cell_type": "markdown",
   "metadata": {},
   "source": [
    "Now we can define the network architecture. It goes as follows:\n",
    "\n",
    "* Layer 1 : \n",
    "    - convolutional layer with patch size 5, stride 1 and valid padding. \n",
    "    - ReLu activation. \n",
    "    - dropout with keep probability =0.5\n",
    "    - Input : 32x32x1 \n",
    "    - Output : 28x28x16\n",
    "* Layer 2 : \n",
    "    - convolutional layer with patch size 5, stride 1 and valid padding. \n",
    "    - ReLu activation. \n",
    "    - dropout with keep probability =0.5\n",
    "    - max_pooling with patch size 5 and stride 2. \n",
    "    - Input : 28x28x16 \n",
    "    - Output : 12x12x32\n",
    "* Layer 3 : \n",
    "    - convolutional layer with patch size 5, stride 1 and valid padding. \n",
    "    - ReLu activation. \n",
    "    - dropout with keep probability =0.5\n",
    "    - max_pooling with patch size 5 and stride 2. \n",
    "    - Input : 12x12x32\n",
    "    - Output : 8x8x64 \n",
    "* Layer 4 : \n",
    "    - fully connected layer with ReLu activation. \n",
    "    - Input : 1024x1 \n",
    "    - Output : 256x1\n",
    "* Layer 5 : \n",
    "    - Output layer, fully connected with softmax output. \n",
    "    - Input : 256x1 \n",
    "    - Output : 43x1\n",
    "    \n",
    "The loss function is the cross-entropy. An $L_2$ regularization term with regularization parameter equal to $10^{-3}$ was added to reduce slightly overfitting. The optimization is achieved using AdamOptimizer with an initial learning rate of $5.10^{-3}$"
   ]
  },
  {
   "cell_type": "code",
   "execution_count": 12,
   "metadata": {
    "collapsed": true
   },
   "outputs": [],
   "source": [
    "### Define your architecture here.\n",
    "### Feel free to use as many code cells as needed.\n",
    "\n",
    "graph = tf.Graph()\n",
    "\n",
    "with graph.as_default():\n",
    "\n",
    "    def LeNet(x, keep_prob, l2):    \n",
    "        # Layer 1: Convolutional. Input = 32x32x1. Output = 28x28x16. Activation = relu\n",
    "        patch_size1 = 5\n",
    "        num_channels1 = 1\n",
    "        depth1 = 16\n",
    "        stride1 = 1\n",
    "        weights1 = tf.Variable(tf.truncated_normal([patch_size1, patch_size1, num_channels1, depth1], \n",
    "                                                   stddev=np.sqrt(2/(5*5*1))))\n",
    "        biases1 = tf.Variable(tf.zeros([depth1]))\n",
    "        conv1 = tf.nn.conv2d(x, weights1, [1, stride1, stride1, 1], padding='VALID')\n",
    "        relu1 = tf.nn.dropout(tf.nn.relu(tf.add(conv1,biases1)),keep_prob)\n",
    "        # Layer 2: Convolutional. Output = 24x24x32. Activation = relu\n",
    "        patch_size2 = 5\n",
    "        num_channels2 = depth1\n",
    "        depth2 = 32\n",
    "        stride2 = 1\n",
    "        weights2 = tf.Variable(tf.truncated_normal([patch_size2, patch_size2, num_channels2, depth2],\n",
    "                                                   stddev=np.sqrt(2/(5*5*16))))\n",
    "        biases2 = tf.Variable(tf.zeros([depth2]))\n",
    "        conv2 = tf.nn.conv2d(relu1, weights2, [1, stride2, stride2, 1], padding='VALID')\n",
    "        relu2 = tf.nn.dropout(tf.nn.relu(tf.add(conv2,biases2)),keep_prob)\n",
    "        # Pooling. Input = 24x24x32. Output = 12x12x32.\n",
    "        pool2 = tf.nn.max_pool(relu2, [1, 2, 2, 1], [1, 2, 2, 1], padding='VALID')\n",
    "\n",
    "        # Layer 3: Convolutional. Output = 8x8x64. Activation = relu\n",
    "        patch_size3 = 5\n",
    "        num_channels3 = 32\n",
    "        depth3 = 64\n",
    "        stride3 = 1\n",
    "        weights3 = tf.Variable(tf.truncated_normal([patch_size3, patch_size3, num_channels3, depth3],\n",
    "                                                   stddev=np.sqrt(2/(5*5*32))))\n",
    "        biases3 = tf.Variable(tf.zeros([depth3]))\n",
    "        conv3 = tf.nn.conv2d(pool2, weights3, [1, stride3, stride3, 1], padding='VALID')\n",
    "        relu3 = tf.nn.dropout(tf.nn.relu(tf.add(conv3,biases3)),keep_prob)\n",
    "        # Pooling. Input = 8x8x64. Output = 4x4*64\n",
    "        pool3 = tf.nn.max_pool(relu3, [1, 2, 2, 1], [1, 2, 2, 1], padding='VALID')\n",
    " \n",
    "        # TODO: Flatten. Input = 4x4x64. Output = 1024.\n",
    "        flat = flatten(pool3)\n",
    "        # TODO: Layer 4: Fully Connected. Input = 1024. Output = 256.\n",
    "        weights4 = tf.Variable(tf.truncated_normal([1024,256], stddev=np.sqrt(2/(1024))))\n",
    "        biases4 = tf.Variable(tf.zeros([256]))\n",
    "        fully4 = tf.add(tf.matmul(flat,weights4),biases4)\n",
    "        # Activation.\n",
    "        relu4 = tf.nn.relu(fully4)\n",
    " \n",
    "        # Layer 5: Fully Connected. Input = 256. Output = 128.\n",
    "        weights5 = tf.Variable(tf.truncated_normal([256,43], stddev=np.sqrt(2/(256))))\n",
    "        biases5 = tf.Variable(tf.zeros([43]))\n",
    "        logits = tf.add(tf.matmul(relu4,weights5),biases5)\n",
    "\n",
    "        l2_loss = l2*(tf.nn.l2_loss(weights1)+tf.nn.l2_loss(weights2)+tf.nn.l2_loss(weights3)\n",
    "                      +tf.nn.l2_loss(weights4)+tf.nn.l2_loss(weights5))\n",
    "        return logits, l2_loss\n",
    "\n",
    "    x = tf.placeholder(tf.float32, (None, 32, 32, 1))\n",
    "    y = tf.placeholder(tf.int32, (None))\n",
    "    p = tf.placeholder(tf.float32,())\n",
    "    one_hot_y = tf.one_hot(y, 43)\n",
    "\n",
    "    rate = 0.0005\n",
    "    l2 = 1e-3\n",
    "\n",
    "    logits,l2_loss = LeNet(x, p, l2)\n",
    "    cross_entropy = tf.nn.softmax_cross_entropy_with_logits(labels=one_hot_y, logits=logits)\n",
    "\n",
    "    loss_operation = tf.reduce_mean(cross_entropy)+l2_loss\n",
    "    optimizer = tf.train.AdamOptimizer(learning_rate = rate)\n",
    "    #extra_update_ops = tf.get_collection(tf.GraphKeys.UPDATE_OPS)\n",
    "    #with tf.control_dependencies(extra_update_ops):\n",
    "    training_operation = optimizer.minimize(loss_operation)\n",
    "\n",
    "    # Accuracy\n",
    "    correct_prediction = tf.equal(tf.argmax(logits, 1), tf.argmax(one_hot_y, 1))\n",
    "    accuracy_operation = tf.reduce_mean(tf.cast(correct_prediction, tf.float32))\n",
    "    \n",
    "    # class probabilities\n",
    "    #top5_classes = tf.nn.top_k(tf.nn.softmax(logits), k=5)\n",
    "    \n",
    "    saver = tf.train.Saver()\n",
    "\n",
    "    \n",
    "    init = tf.global_variables_initializer()"
   ]
  },
  {
   "cell_type": "markdown",
   "metadata": {},
   "source": [
    "### Train, Validate and Test the Model"
   ]
  },
  {
   "cell_type": "markdown",
   "metadata": {},
   "source": [
    "A validation set can be used to assess how well the model is performing. A low accuracy on the training and validation\n",
    "sets imply underfitting. A high accuracy on the training set but low accuracy on the validation set implies overfitting.\n",
    "\n",
    "The network is trained on 15 epochs (i.e. passes over the entire training set), by batches of 64 training examples. After each epoch, we compute the accuracy of the classificaiton over the training and validation sets. Accuracy on the test set, is computed at the end of the process. \n",
    "\n",
    "The training was made on an AWS instance with GPU, which was pretty fast allowed several repetition for tuning the parameters."
   ]
  },
  {
   "cell_type": "code",
   "execution_count": null,
   "metadata": {},
   "outputs": [
    {
     "name": "stdout",
     "output_type": "stream",
     "text": [
      "Training...\n",
      "\n"
     ]
    }
   ],
   "source": [
    "### Train your model here.\n",
    "### Calculate and report the accuracy on the training and validation set.\n",
    "### Once a final model architecture is selected, \n",
    "### the accuracy on the test set should be calculated and reported as well.\n",
    "### Feel free to use as many code cells as needed.\n",
    "EPOCHS=15\n",
    "BATCH_SIZE=64\n",
    "KEEP_PROB = 0.5\n",
    "train_accuracy = []\n",
    "valid_accuracy = []\n",
    "with tf.Session(graph=graph) as sess:\n",
    "    sess.run(init)\n",
    "    sess.run(tf.global_variables_initializer())\n",
    "    num_examples = len(X_train)\n",
    "    \n",
    "    print(\"Training...\")\n",
    "    print()\n",
    "    for i in range(EPOCHS):\n",
    "        X_train, y_train = shuffle(X_train, y_train)\n",
    "        for offset in range(0, num_examples, BATCH_SIZE):\n",
    "            end = offset + BATCH_SIZE\n",
    "            batch_x, batch_y = X_train[offset:end], y_train[offset:end]\n",
    "            sess.run(training_operation, feed_dict={x: batch_x, y: batch_y, p:KEEP_PROB})\n",
    "        \n",
    "        acc_t = sess.run(accuracy_operation, feed_dict={x: batch_x, y: batch_y, p:1.0})\n",
    "        acc_v = sess.run(accuracy_operation, feed_dict={x: X_valid, y: y_valid,p:1.0})\n",
    "        print(\"EPOCH {} ...\".format(i+1))\n",
    "        print(\"MiniBatch Accuracy = {:.3f}\".format(acc_t))\n",
    "        print(\"Validation Accuracy = {:.3f}\".format(acc_v))\n",
    "        print()\n",
    "        train_accuracy.append(acc_t)\n",
    "        valid_accuracy.append(acc_v)\n",
    "    saver.save(sess, './lenet')\n",
    "    print(\"Model saved\")\n",
    "    \n",
    "    test_accuracy = sess.run(accuracy_operation, feed_dict={x: X_test, y: y_test, p:1.0})\n",
    "    print(\"Test Accuracy = {:.3f}\".format(test_accuracy))\n",
    "    print()\n",
    "\n",
    "plt.figure()\n",
    "plt.plot(np.arange(EPOCHS),train_accuracy,'r',label='Training')\n",
    "plt.plot(np.arange(EPOCHS),valid_accuracy,'g',label='Validation')\n",
    "plt.legend()"
   ]
  },
  {
   "cell_type": "markdown",
   "metadata": {},
   "source": [
    "At the end, we obtain an accuracy of .96 on the test set. The high accuracy on the training batches seems to indicate that there is still overfitting."
   ]
  },
  {
   "cell_type": "markdown",
   "metadata": {},
   "source": [
    "---\n",
    "\n",
    "## Step 3: Test a Model on New Images\n",
    "\n",
    "To give yourself more insight into how your model is working, download at least five pictures of German traffic signs from the web and use your model to predict the traffic sign type.\n",
    "\n",
    "You may find `signnames.csv` useful as it contains mappings from the class id (integer) to the actual sign name."
   ]
  },
  {
   "cell_type": "markdown",
   "metadata": {},
   "source": [
    "### Load and Output the Images"
   ]
  },
  {
   "cell_type": "markdown",
   "metadata": {},
   "source": [
    "I've chosen 7 images from the internet to test the network. The five first should be straightforward, as they all display neat traffic sign sign form the front. The last two are more tricky : one has a small traffic sign on a bigger image, and the other displays a sign slightly skewed by the position of the camera. Let us visualize these."
   ]
  },
  {
   "cell_type": "code",
   "execution_count": null,
   "metadata": {
    "collapsed": true
   },
   "outputs": [],
   "source": [
    "### Load the images and plot them here.\n",
    "### Feel free to use as many code cells as needed.\n",
    "\n",
    "## these images are located in the folder 'NewImages'.\n",
    "fnames = ['./Newimages/sign'+str(i)+'.png' for i in range(1,8)]\n",
    "mpl.rcParams['figure.figsize'] = (35,5)\n",
    "f, ax = plt.subplots(1, 7)\n",
    "for i,fname in enumerate(fnames):\n",
    "    img = imread(fname)\n",
    "    ax[i].imshow(img)"
   ]
  },
  {
   "cell_type": "markdown",
   "metadata": {},
   "source": [
    "### Predict the Sign Type for Each Image\n",
    "\n",
    "First we need to transform the images according to the same pre-processing scheme we used for the training set. Additionally, we need to rescale the images to the correct size (i.e. 32x32). "
   ]
  },
  {
   "cell_type": "code",
   "execution_count": null,
   "metadata": {
    "collapsed": true
   },
   "outputs": [],
   "source": [
    "# Preprocessing pipeline :\n",
    "# 0) Scale images to 32x32x3\n",
    "# 1) switch to greyscale\n",
    "# 2) standardize images\n",
    "test_imgs = np.ndarray((7,32,32,1))\n",
    "f, ax = plt.subplots(1, 7)\n",
    "for i,fname in enumerate(fnames):\n",
    "    img = imread(fname)\n",
    "    img = imresize(img,(32,32)).reshape((1,32,32,3))\n",
    "    img = rgb2gray(img)\n",
    "    img = (img-np.mean(img,axis=(1,2),keepdims=True))/np.std(img,axis=(1,2),keepdims=True)\n",
    "    test_imgs[i,:,:,:] = img\n",
    "    ax[i].imshow(img[0,:,:,0])"
   ]
  },
  {
   "cell_type": "markdown",
   "metadata": {},
   "source": [
    "Next we can use the graph above, and the weights computed during training to make predictions on the images. The network compute the logits of each image. The corresponding label is the argmax of the logits. "
   ]
  },
  {
   "cell_type": "code",
   "execution_count": null,
   "metadata": {
    "collapsed": true
   },
   "outputs": [],
   "source": [
    "# Reload the model\n",
    "with tf.Session(graph=graph) as sess:\n",
    "    # Restore variables from disk.\n",
    "    saver.restore(sess, \"./lenet\")\n",
    "    # make the prediction:\n",
    "    # compute logits from the network\n",
    "    pred_score = sess.run(logits, feed_dict={x: test_imgs,p:1.0})\n",
    "    # Compute argmax of logits\n",
    "    pred = np.argmax(pred_score,axis=1)\n",
    "    # convert argmax into traffice sign's label\n",
    "    pred_label = [names.loc[i,'SignName'] for i in pred]\n"
   ]
  },
  {
   "cell_type": "markdown",
   "metadata": {},
   "source": [
    "### Analyze Performance"
   ]
  },
  {
   "cell_type": "markdown",
   "metadata": {},
   "source": [
    "We can compute the accuracy on this small dataset by comparing it to the correct label. "
   ]
  },
  {
   "cell_type": "code",
   "execution_count": null,
   "metadata": {
    "collapsed": true
   },
   "outputs": [],
   "source": [
    "### Calculate the accuracy for these 5 new images. \n",
    "### For example, if the model predicted 1 out of 5 signs correctly, it's 20% accurate on these new images.\n",
    "\n",
    "# write down vector label\n",
    "true_label = ['Stop', 'Speed limit (50km/h)', 'No entry', 'Right-of-way at the next intersection',\n",
    "              'Wild animals crossing', 'Double curve', 'Speed limit (80km/h)']\n",
    "# compute accuracy\n",
    "accuracy = sum([p == t for p,t in zip(pred_label,true_label)])/len(true_label)\n",
    "print(accuracy)"
   ]
  },
  {
   "cell_type": "markdown",
   "metadata": {},
   "source": [
    "Accuracy is much lower here. Of course, we are computing it on very small dataset... This number indicates that we got 5 correct predictions on the 7 test images. Let us investigate this further."
   ]
  },
  {
   "cell_type": "markdown",
   "metadata": {},
   "source": [
    "### Output Top 5 Softmax Probabilities For Each Image Found on the Web"
   ]
  },
  {
   "cell_type": "markdown",
   "metadata": {},
   "source": [
    "For each of the new images, print out the model's softmax probabilities to show the **certainty** of the model's predictions (limit the output to the top 5 probabilities for each image). [`tf.nn.top_k`](https://www.tensorflow.org/versions/r0.12/api_docs/python/nn.html#top_k) could prove helpful here. \n",
    "\n",
    "The example below demonstrates how tf.nn.top_k can be used to find the top k predictions for each image.\n",
    "\n",
    "`tf.nn.top_k` will return the values and indices (class ids) of the top k predictions. So if k=3, for each sign, it'll return the 3 largest probabilities (out of a possible 43) and the correspoding class ids.\n",
    "\n",
    "Take this numpy array as an example. The values in the array represent predictions. The array contains softmax probabilities for five candidate images with six possible classes. `tf.nn.top_k` is used to choose the three classes with the highest probability:\n",
    "\n",
    "```\n",
    "# (5, 6) array\n",
    "a = np.array([[ 0.24879643,  0.07032244,  0.12641572,  0.34763842,  0.07893497,\n",
    "         0.12789202],\n",
    "       [ 0.28086119,  0.27569815,  0.08594638,  0.0178669 ,  0.18063401,\n",
    "         0.15899337],\n",
    "       [ 0.26076848,  0.23664738,  0.08020603,  0.07001922,  0.1134371 ,\n",
    "         0.23892179],\n",
    "       [ 0.11943333,  0.29198961,  0.02605103,  0.26234032,  0.1351348 ,\n",
    "         0.16505091],\n",
    "       [ 0.09561176,  0.34396535,  0.0643941 ,  0.16240774,  0.24206137,\n",
    "         0.09155967]])\n",
    "```\n",
    "\n",
    "Running it through `sess.run(tf.nn.top_k(tf.constant(a), k=3))` produces:\n",
    "\n",
    "```\n",
    "TopKV2(values=array([[ 0.34763842,  0.24879643,  0.12789202],\n",
    "       [ 0.28086119,  0.27569815,  0.18063401],\n",
    "       [ 0.26076848,  0.23892179,  0.23664738],\n",
    "       [ 0.29198961,  0.26234032,  0.16505091],\n",
    "       [ 0.34396535,  0.24206137,  0.16240774]]), indices=array([[3, 0, 5],\n",
    "       [0, 1, 4],\n",
    "       [0, 5, 1],\n",
    "       [1, 3, 5],\n",
    "       [1, 4, 3]], dtype=int32))\n",
    "```\n",
    "\n",
    "Looking just at the first row we get `[ 0.34763842,  0.24879643,  0.12789202]`, you can confirm these are the 3 largest probabilities in `a`. You'll also notice `[3, 0, 5]` are the corresponding indices."
   ]
  },
  {
   "cell_type": "markdown",
   "metadata": {},
   "source": [
    "We can compute the logits of each class to probabilities of classification using the softmax function. Then we can extract the five most important probabilities and plot them in a bar plot to try to understand what the network is doing."
   ]
  },
  {
   "cell_type": "code",
   "execution_count": null,
   "metadata": {
    "collapsed": true
   },
   "outputs": [],
   "source": [
    "mpl.rcParams['figure.figsize'] = (12,6)\n",
    "\n",
    "proba = np.exp(pred_score)/np.sum(np.exp(pred_score),axis=1)[:,None]\n",
    "top5_classes = np.argsort(proba)[:,:-6:-1]\n",
    "top5_proba = np.sort(proba)[:,:-6:-1]\n",
    "\n",
    "for i in range(7):\n",
    "    img = imread(fnames[i])\n",
    "    dfrm = pd.DataFrame({\"Prob\":top5_proba[i,:]})\n",
    "    # remember the names of the labels are stored in a dataframe called 'names'\n",
    "    dfrm[\"Class\"]=[names.loc[k, 'SignName'] for k in top5_classes[i,:]]\n",
    "    f, (ax1, ax2) = plt.subplots(1, 2)\n",
    "    sns.barplot(x=\"Prob\", y=\"Class\", data=dfrm, ax=ax1)\n",
    "    ax2.imshow(img)"
   ]
  },
  {
   "cell_type": "markdown",
   "metadata": {},
   "source": [
    "We can see that the five first images were correctly predicted and that, for those five images, the network is pretty confident in its prediction (very high probability of classification).\n",
    "\n",
    "The prediction on the last two images are completely wrong : the correct class is not even in the top 5 predicitons. This indicate that the network has a lot of problem with these images that are not exactly similar as what the training set contains. This problem could be improved by augmenting the training set and adding copies of training examples with slight distortion such as scaling, translation, skewing, rotation, ... This is also another indication that the network might be overfitting and therefore has troubles generalizing."
   ]
  },
  {
   "cell_type": "markdown",
   "metadata": {},
   "source": [
    "### Project Writeup\n",
    "\n",
    "Once you have completed the code implementation, document your results in a project writeup using this [template](https://github.com/udacity/CarND-Traffic-Sign-Classifier-Project/blob/master/writeup_template.md) as a guide. The writeup can be in a markdown or pdf file. "
   ]
  },
  {
   "cell_type": "markdown",
   "metadata": {},
   "source": [
    "> **Note**: Once you have completed all of the code implementations and successfully answered each question above, you may finalize your work by exporting the iPython Notebook as an HTML document. You can do this by using the menu above and navigating to  \\n\",\n",
    "    \"**File -> Download as -> HTML (.html)**. Include the finished document along with this notebook as your submission."
   ]
  },
  {
   "cell_type": "markdown",
   "metadata": {},
   "source": [
    "---\n",
    "\n",
    "## Step 4 (Optional): Visualize the Neural Network's State with Test Images\n",
    "\n",
    " This Section is not required to complete but acts as an additional excersise for understaning the output of a neural network's weights. While neural networks can be a great learning device they are often referred to as a black box. We can understand what the weights of a neural network look like better by plotting their feature maps. After successfully training your neural network you can see what it's feature maps look like by plotting the output of the network's weight layers in response to a test stimuli image. From these plotted feature maps, it's possible to see what characteristics of an image the network finds interesting. For a sign, maybe the inner network feature maps react with high activation to the sign's boundary outline or to the contrast in the sign's painted symbol.\n",
    "\n",
    " Provided for you below is the function code that allows you to get the visualization output of any tensorflow weight layer you want. The inputs to the function should be a stimuli image, one used during training or a new one you provided, and then the tensorflow variable name that represents the layer's state during the training process, for instance if you wanted to see what the [LeNet lab's](https://classroom.udacity.com/nanodegrees/nd013/parts/fbf77062-5703-404e-b60c-95b78b2f3f9e/modules/6df7ae49-c61c-4bb2-a23e-6527e69209ec/lessons/601ae704-1035-4287-8b11-e2c2716217ad/concepts/d4aca031-508f-4e0b-b493-e7b706120f81) feature maps looked like for it's second convolutional layer you could enter conv2 as the tf_activation variable.\n",
    "\n",
    "For an example of what feature map outputs look like, check out NVIDIA's results in their paper [End-to-End Deep Learning for Self-Driving Cars](https://devblogs.nvidia.com/parallelforall/deep-learning-self-driving-cars/) in the section Visualization of internal CNN State. NVIDIA was able to show that their network's inner weights had high activations to road boundary lines by comparing feature maps from an image with a clear path to one without. Try experimenting with a similar test to show that your trained network's weights are looking for interesting features, whether it's looking at differences in feature maps from images with or without a sign, or even what feature maps look like in a trained network vs a completely untrained one on the same sign image.\n",
    "\n",
    "<figure>\n",
    " <img src=\"visualize_cnn.png\" width=\"380\" alt=\"Combined Image\" />\n",
    " <figcaption>\n",
    " <p></p> \n",
    " <p style=\"text-align: center;\"> Your output should look something like this (above)</p> \n",
    " </figcaption>\n",
    "</figure>\n",
    " <p></p> \n"
   ]
  },
  {
   "cell_type": "code",
   "execution_count": null,
   "metadata": {
    "collapsed": true
   },
   "outputs": [],
   "source": [
    "### Visualize your network's feature maps here.\n",
    "### Feel free to use as many code cells as needed.\n",
    "\n",
    "# image_input: the test image being fed into the network to produce the feature maps\n",
    "# tf_activation: should be a tf variable name used during your training procedure that represents the calculated state of a specific weight layer\n",
    "# activation_min/max: can be used to view the activation contrast in more detail, by default matplot sets min and max to the actual min and max values of the output\n",
    "# plt_num: used to plot out multiple different weight feature map sets on the same block, just extend the plt number for each new feature map entry\n",
    "\n",
    "def outputFeatureMap(image_input, tf_activation, activation_min=-1, activation_max=-1 ,plt_num=1):\n",
    "    # Here make sure to preprocess your image_input in a way your network expects\n",
    "    # with size, normalization, ect if needed\n",
    "    # image_input =\n",
    "    # Note: x should be the same name as your network's tensorflow data placeholder variable\n",
    "    # If you get an error tf_activation is not defined it may be having trouble accessing the variable from inside a function\n",
    "    activation = tf_activation.eval(session=sess,feed_dict={x : image_input})\n",
    "    featuremaps = activation.shape[3]\n",
    "    plt.figure(plt_num, figsize=(15,15))\n",
    "    for featuremap in range(featuremaps):\n",
    "        plt.subplot(6,8, featuremap+1) # sets the number of feature maps to show on each row and column\n",
    "        plt.title('FeatureMap ' + str(featuremap)) # displays the feature map number\n",
    "        if activation_min != -1 & activation_max != -1:\n",
    "            plt.imshow(activation[0,:,:, featuremap], interpolation=\"nearest\", vmin =activation_min, vmax=activation_max, cmap=\"gray\")\n",
    "        elif activation_max != -1:\n",
    "            plt.imshow(activation[0,:,:, featuremap], interpolation=\"nearest\", vmax=activation_max, cmap=\"gray\")\n",
    "        elif activation_min !=-1:\n",
    "            plt.imshow(activation[0,:,:, featuremap], interpolation=\"nearest\", vmin=activation_min, cmap=\"gray\")\n",
    "        else:\n",
    "            plt.imshow(activation[0,:,:, featuremap], interpolation=\"nearest\", cmap=\"gray\")"
   ]
  }
 ],
 "metadata": {
  "anaconda-cloud": {},
  "kernelspec": {
   "display_name": "Python 3",
   "language": "python",
   "name": "python3"
  },
  "language_info": {
   "codemirror_mode": {
    "name": "ipython",
    "version": 3
   },
   "file_extension": ".py",
   "mimetype": "text/x-python",
   "name": "python",
   "nbconvert_exporter": "python",
   "pygments_lexer": "ipython3",
   "version": "3.5.2"
  },
  "widgets": {
   "state": {},
   "version": "1.1.2"
  }
 },
 "nbformat": 4,
 "nbformat_minor": 1
}
